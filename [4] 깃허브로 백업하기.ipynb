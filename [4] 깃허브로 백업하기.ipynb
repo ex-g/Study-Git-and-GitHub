{
 "cells": [
  {
   "cell_type": "markdown",
   "id": "281e5ee1-8d27-4b24-b299-e66aec851012",
   "metadata": {},
   "source": [
    "# Do it! 지옥에서 온 문서 관리자 : 깃 & 깃허브 입문"
   ]
  },
  {
   "cell_type": "markdown",
   "id": "a9c84bdf-86bc-495b-a3fe-a0c91d1303ac",
   "metadata": {},
   "source": [
    "## 4. 깃허브로 백업하기"
   ]
  },
  {
   "cell_type": "markdown",
   "id": "8bf5ec6b-18ea-4421-919e-9c6cb7594cd4",
   "metadata": {},
   "source": [
    "<hr>"
   ]
  },
  {
   "cell_type": "markdown",
   "id": "48690444-4248-48c1-b553-325433d8580e",
   "metadata": {},
   "source": [
    "### 지역 저장소 (local repository) : 자신의 컴퓨터 안에 커밋을 저장한 곳.\n",
    "### 원격 저장소 (remote repository) : 컴퓨터나 서버에 만든 저장소로, 지역 저장소와 연결해 버전 관리 하는 파일들을 쉽게 백업할 수 있음.\n",
    "### 깃허브 (GitHub) : https://github.com/\n",
    "개발자들이 많이 사용하고 주목하는 여러 오픈 소스가 있으므로, 단순히 하나의 서비스에 국한된 것이 아니라 개발 문화 전체에서 차지하는 영향력이 아주 큼.\n",
    "- 원격 저장소에서 깃 사용 가능\n",
    "- 지역 저장소를 인터넷 상에 백업하기 가능\n",
    "- 협업 프로젝트에 사용\n",
    "- 개발 이력 남기기\n",
    "- 타인의 소스 살펴보기, 오픈 소스에 참여하기 - 깃을 비롯해 웹 개발이나 인공지능, 데이터 과학 등 개발의 전 분야에 걸쳐 다양한 오픈 소스들이 등록되어 있음.  \n",
    "\n",
    "깃허브 저장소에 접속할 때는 HTTPS 프로토콜을 이용하는 방법과 SSH를 이용하는 방법이 있는데, 웹 브라우저에서 접속할 때는 HTTPS를 이용함."
   ]
  },
  {
   "cell_type": "markdown",
   "id": "73aec50b-6d0d-4215-a209-43babd99ddf1",
   "metadata": {},
   "source": [
    "<hr>"
   ]
  },
  {
   "cell_type": "markdown",
   "id": "4598b40c-e804-4023-a8c5-3d78ee1036ba",
   "metadata": {},
   "source": [
    "### Codes\n",
    "\n",
    "git remote origin [레포지토리 주소] : 원격 저장소에 origin을 추가하겠다고 깃에게 알려줌.   \n",
    "origin이란? : 깃허브 저장소 주소.  \n",
    "(너무 길기 때문에 origin으로 줄여서 추가함. 깃에서 기본 브랜치를 main이라고 하듯, 기본 원격 저장소를 origin이라고 부르는 것.)  \n",
    "git remote -v : 지역 저장소를 특정 원격 저장소에 연결한 뒤 확인하는 명령어\n",
    "\n",
    "push : local > remote (소스를 올림)  \n",
    "pull : remote > local (소스를 받음) - 원격 저장소와 지역 저장소의 상태를 같게 만들기 위해 소스를 가져옴. \n",
    "\n",
    "git push -u origin main : 지역 저장소의 브랜치를 origin, 즉 원격 저장소의 main 브랜치로 push하라는 명령어.\n",
    "- -u 옵션은 처음에 한 번만 사용하면 됨.\n",
    "- 한 번 연결해두면 다음부터는 git push만 써도 됨.\n",
    "\n",
    "지역 저장소가 있는 컴퓨터를 사용할 수 없을 땐? : 깃허브 사이트에서 직접 커밋하기  \n",
    "> 레포지토리에서 [Create new file]을 누르고 파일 이름과 내용을 입력한 뒤, [Commit new file]을 누르면 원격 저장소에 새로운 커밋이 추가됨.\n",
    "\n",
    "git pull origin main : origin의 내용을 지역 저장소의 main 브랜치로 가져온다는 뜻. (기본 원격 저장소가 origin이고 지역 저장소의 기본 브랜치가 main이므로 git pull만 입력해도 됨)"
   ]
  },
  {
   "cell_type": "markdown",
   "id": "c5dc0576-2ab6-49e5-910e-5e3ab0c99a36",
   "metadata": {},
   "source": [
    "(참고) 깃허브 저장소 화면에서 Watch, Star, Fork를 살펴보면 해당 저장소의 소스를 참고할지 결정하는 데 도움을 받을 수 있음!"
   ]
  },
  {
   "cell_type": "markdown",
   "id": "90e73bca-551f-4100-b2dc-98146f8d3c78",
   "metadata": {},
   "source": [
    "<hr>"
   ]
  },
  {
   "cell_type": "markdown",
   "id": "63185ca9-ea92-40ca-97a1-93c33399dcfb",
   "metadata": {},
   "source": [
    "#### SSH(Secure Shell) : 보안이 강화된 안전한 방법으로 정보를 교환하는 방식\n",
    "\n",
    "사용자 컴퓨터에서 SSH 키 생성기를 실행하면,\n",
    "1. 프라이빗 키(private key) : 아무도 알 수 없게 사용자 컴퓨터에 저장되는 키\n",
    "2. 퍼블릭 키(public key) : 외부로 공개되는 키  \n",
    "이렇게 두 개가 만들어지고, SSH에서는 기본적으로 이 두 키를 한 쌍으로 묶어서 컴퓨터를 인증함.\n",
    "\n",
    "##### System\n",
    "사용자 컴퓨터에 만들어져 있는 퍼블릭 키를 깃허브 서버로 전송한 다음 저장함.\n",
    "이후 사용자 컴퓨터에서 깃허브 저장소에 접속하면 사용자 컴퓨터에 있는 프라이빗 키와 깃허브 서버에 있는 퍼블릭 키가 비교되어 맞으면 컴퓨터와 저장소가 연결됨.\n",
    "\n",
    "##### Advantages\n",
    "웹 브라우저에서 깃허브 저장소에 접속할 때는 <아이디 & 비밀번호>를 입력함.\n",
    "하지만 SSH 원격접속은 프라이빗 키와 퍼블릭 키를 사용함 > 터미널 창을 이용할 수 있는 상태라면 언제든 깃허브에 접속할 수 있음. 자동 로그인 기능도 있어서 터미널 사용 시 번거로움도 줄어듦.\n",
    "\n",
    "##### Method\n",
    "1. 홈 디렉터리에서 ssh-keygen 명령어 입력.\n",
    "- SSH 키가 저장되는 디렉터리는 홈 디렉터리 안에 있는 .ssh 디렉터리임. (파일 이름 입력하지 말고 Enter.)\n",
    "- 이후 Enter를 두 번 더 누르면 id_rsa파일(프라이빗 키), id_rsa.pub(퍼블릭 키) 경로가 표시됨.\n",
    "\n",
    "2. cd .ssh\n",
    "3. ls -la를 이용해 id_rsa, id_rsa.pub 확인\n",
    "4. cat id_rsa.pub을 이용해 파일을 연 뒤 퍼블릭 키를 복사해 깃헙 저장소의  \n",
    "settings - [SSH and GPG keys] - [New SSH key]를 선택해, 복사한 키 내용을 붙여주고 제목도 붙여줌.  \n",
    "(SSH 중 퍼블릭 키는 여러 개 등록이 가능하기 때문.)\n",
    "\n",
    "5. 깃허브에서 레포지토리 하나 새로 만들고 ssh 주소 복사하기\n",
    "6. Git bash의 홈 디렉터리에서 지역 저장소 하나 새로 만들고 git init 명령어 입력\n",
    "7. git remote add origin [복사한 ssh 주소] 명령어를 입력해주면 끝!\n",
    "8. git remote -v 명령어를 통해 어떻게 연결되어 있는지 확인"
   ]
  }
 ],
 "metadata": {
  "kernelspec": {
   "display_name": "Python 3 (ipykernel)",
   "language": "python",
   "name": "python3"
  },
  "language_info": {
   "codemirror_mode": {
    "name": "ipython",
    "version": 3
   },
   "file_extension": ".py",
   "mimetype": "text/x-python",
   "name": "python",
   "nbconvert_exporter": "python",
   "pygments_lexer": "ipython3",
   "version": "3.8.12"
  }
 },
 "nbformat": 4,
 "nbformat_minor": 5
}
