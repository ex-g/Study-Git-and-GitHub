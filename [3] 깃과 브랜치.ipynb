{
 "cells": [
  {
   "cell_type": "markdown",
   "id": "3bf9aac0-aa63-45ae-9f30-0593cbb25769",
   "metadata": {},
   "source": [
    "# Do it! 지옥에서 온 문서 관리자 : 깃 & 깃허브 입문"
   ]
  },
  {
   "cell_type": "markdown",
   "id": "03151d72-759c-44a3-922a-9084f848c927",
   "metadata": {},
   "source": [
    "## 3. 깃으로 버전 관리하기"
   ]
  },
  {
   "cell_type": "markdown",
   "id": "57d21b19-2d75-45f3-a74a-385569197b6f",
   "metadata": {},
   "source": [
    "<hr>"
   ]
  },
  {
   "cell_type": "markdown",
   "id": "07824f50-3e05-43e1-bebc-1c54d23c9be3",
   "metadata": {},
   "source": [
    "### 브랜치 : 커밋을 가리키는 포인터\n",
    "- 분기 (branch) 한다 : main 브랜치에서 뻗어 나오는 새 브랜치를 만드는 것\n",
    "- 병합 (merge) 한다 : 분기했던 브랜치를 main 브랜치에 합치는 것"
   ]
  },
  {
   "cell_type": "markdown",
   "id": "5007ea18-79d7-4947-a51d-bba477939c83",
   "metadata": {},
   "source": [
    "<hr>"
   ]
  },
  {
   "cell_type": "markdown",
   "id": "9b3ae3a3-75a9-4d24-a56e-6e629fc9549b",
   "metadata": {},
   "source": [
    "### Codes\n",
    "#### 브랜치\n",
    "\n",
    "git branch : 깃에서 브랜치를 만들거나 확인하는 명령  \n",
    "git branch [만들 브랜치명] : 새 브랜치를 만듦  \n",
    "브랜치를 만들면 가장 최근에 커밋된 파일이 그 브랜치의 최근 커밋 파일이 됨.  \n",
    "\n",
    "git log --oneline : 한 줄에 한 커밋씩 나타내므로 커밋을 간단히 확인할 때 편리함.  \n",
    "git checkout [이동하려는 브랜치명] : 현재 브랜치에서 다른 브랜치로 이동  \n",
    "(어떤 브랜치가 main 브랜치에서 분기된 이후, main 브랜치에 새롭게 추가된 커밋은 분기된 브랜치에 영향을 미치지 않음.)  \n",
    "git log --oneline --branches : 각 브랜치의 커밋을 함께 볼 수 있음.  \n",
    "git log --oneline --branches --graph : 브랜치와 커밋의 관계를 좀 더 보기 쉽게 그래프 형태로 표시  \n",
    "git log [기준 브랜치]..[비교할 브랜치] : 왼쪽 브랜치에 없는 오른쪽 브랜치의 차이점(커밋)을 띄워줌."
   ]
  },
  {
   "cell_type": "markdown",
   "id": "d7e4bdb4-6bb7-46e4-a938-620a0dc940fd",
   "metadata": {},
   "source": [
    "<hr>"
   ]
  },
  {
   "cell_type": "markdown",
   "id": "e863ed3c-df4e-4f1c-84e2-e55433b515a3",
   "metadata": {},
   "source": [
    "#### 브랜치 병합\n",
    "git merge [병합할 브랜치명] : 자동으로 빔 실행되고 커밋 메시지가 뜸. \n",
    "(브랜치를 병합하려면 main으로 이동해ㅡ야 함!)\n",
    "- git merge [병합할 브랜치명] --no-edit : 병합 시 편집기가 열리지 않고, 깃에서 지정하는 커밋 메시지를 그대로 사용함.\n",
    "- git merge [병합할 브랜치명] --edit : 커밋 메시지를 추가하거나 수정함.\n",
    "\n",
    "\n",
    "fast-forward merge(빨리 감기 병합)\n",
    "- main 브랜치에서 브랜치를 분기한 후에 커밋 없이 분기한 브랜치를 합치는 것은 간단함. 분기한 브랜치에서 만든 최신 커밋을 main 브랜치가 가리키기만 하면 되기 때문.  \n",
    "- 이 경우 화면에 커밋 해시가 업데이트 되었다는 내용과 함께 fast-forward 메시지가 뜸.  \n",
    "- 이러한 병합을 fast-forward merge라고 함. git merge 명령의 결과가 단순히 포인터를 움직인 것이므로 따로 커밋 메시지 창은 열리지 않음.\n",
    "\n",
    "git rm [삭제할 파일명] : 파일을 삭제한 뒤에는 커밋을 해줘야 함."
   ]
  },
  {
   "cell_type": "markdown",
   "id": "112e5553-17b0-406d-8626-0635c8e90255",
   "metadata": {},
   "source": [
    "<hr>"
   ]
  },
  {
   "cell_type": "markdown",
   "id": "13ad573f-b0c4-400e-af85-da34564141fd",
   "metadata": {},
   "source": [
    "#### 브랜치 충돌\n",
    "- 같은 문서의 다른 위치를 수정하고 병합하면 > Auto-merging [파일명]으로 시작하는 병합 완료 메시지가 나타남.\n",
    "- 같은 문서의 같은 위치를 수정하고 병합하면 > 충돌 (conflict)가 일어남. 깃에서는 줄 단위로 변경 여부를 확인하기 때문.\n",
    "- 만약 여러 개의 파일을 병합했다면 충돌이 발생한 파일 외에 다른 파일들은 자동으로 main 브랜치에 병합됨.\n",
    "\n",
    "##### (참고) 병합 자동화 프로그램 (병합 알고리즘은 2 way merge보다 3 way merge가 훨씬 효율적임)  \n",
    "- P4Merge : https://www.fileeagle.com/ko/software/2893/P4Merge/\n",
    "- Meld : https://meldmerge.org/\n",
    "- Kdiff3 : http://kdiff3.sourceforge.net/\n",
    "- Araxis Merge(유료) : https://www.araxis.com/merge/index.en"
   ]
  },
  {
   "cell_type": "markdown",
   "id": "1c24bb2c-5c67-4caf-89fd-028904befabb",
   "metadata": {},
   "source": [
    "<hr>"
   ]
  },
  {
   "cell_type": "markdown",
   "id": "fa279e9f-0b96-4cc8-ad49-4c434cf0a0c8",
   "metadata": {},
   "source": [
    "#### 브랜치 삭제\n",
    "\n",
    "브랜치를 삭제해도 완전히 지워지는 것은 아니고, 다시 같은 이름의 브랜치를 만들면 예전의 내용을 다시 볼 수 있음. (깃의 흐름 속에서 감추는 셈)\n",
    "\n",
    "git branch -d [삭제할 브랜치명] : 브랜치를 삭제함.\n",
    "만약 main 브랜치에 병합하지 않은 브랜치를 삭제하려면 오류 메시지가 뜸.\n",
    "이 경우 -D를 사용하면 강제로 삭제할 수 있음."
   ]
  },
  {
   "cell_type": "markdown",
   "id": "22322950-2b5f-4232-a40b-175ce9445c0d",
   "metadata": {},
   "source": [
    "<hr>"
   ]
  },
  {
   "cell_type": "markdown",
   "id": "a4303274-fe9f-4f7e-b0f9-d78558ecf59a",
   "metadata": {},
   "source": [
    "#### 브랜치 reset & stash\n",
    "\n",
    "브랜치가 여러 개일 때 reset 명령을 사용하고 싶다면?\n",
    "> git log --oneline --branches를 사용해 가장 최신 커밋으로 만들고 싶은 파일의 커밋 해시를 복사해서 git reset [커밋 해시]를 입력하면, 원래 가장 최신의 커밋은 연결이 끊기고 삭제됨.\n",
    "\n",
    "git stash : 수정 중인 파일 감추기 및 되돌리기 (급하게 다른 파일을 커밋해야 할 때 쓰는 명령어.)\n",
    "- git stash save 또는 git stash라고만 써도 됨.\n",
    "- 가장 최근에 보관된 파일이 스택방식으로 satsh@{0}에 담김.  \n",
    "\n",
    "git stash pop : stash 목록에서 가장 최근 항목을 되돌림.  \n",
    "git stash apply : stash 목록에 저장된 수정 내용을 나중에 또 사용할지도 모른다면 이 명령을 사용함.  \n",
    "(stash 목록에서 가장 최근 항목을 되돌리지만 저장했던 내용은 그대로 남겨둠.)  \n",
    "git stash drop : stash 목록에서 가장 최근 항목을 삭제함."
   ]
  }
 ],
 "metadata": {
  "kernelspec": {
   "display_name": "Python 3 (ipykernel)",
   "language": "python",
   "name": "python3"
  },
  "language_info": {
   "codemirror_mode": {
    "name": "ipython",
    "version": 3
   },
   "file_extension": ".py",
   "mimetype": "text/x-python",
   "name": "python",
   "nbconvert_exporter": "python",
   "pygments_lexer": "ipython3",
   "version": "3.8.12"
  }
 },
 "nbformat": 4,
 "nbformat_minor": 5
}
