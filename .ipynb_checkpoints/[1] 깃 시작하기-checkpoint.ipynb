{
 "cells": [
  {
   "cell_type": "markdown",
   "id": "01303ce3-e0f0-42e4-a3ca-ca8e8a1caa1b",
   "metadata": {},
   "source": [
    "# Do it! 지옥에서 온 문서 관리자 : 깃 & 깃허브 입문"
   ]
  },
  {
   "cell_type": "markdown",
   "id": "f9d410ba-4841-40b6-af54-bb0a709d83f2",
   "metadata": {},
   "source": [
    "## 1. 깃 시작하기"
   ]
  },
  {
   "cell_type": "markdown",
   "id": "74dea079-9ae3-46c6-88ab-d03e51474e49",
   "metadata": {},
   "source": [
    "<hr>"
   ]
  },
  {
   "cell_type": "markdown",
   "id": "54d057ea-9410-49f8-94d0-a17b6483740b",
   "metadata": {},
   "source": [
    "2005년 리누스 토르발스(Linus Torvalds), 깃(git)을 처음 세상에 소개."
   ]
  },
  {
   "cell_type": "markdown",
   "id": "8e6bff38-1f9e-471d-ad2f-e1526254a250",
   "metadata": {},
   "source": [
    "### 01. 깃으로 할 수 있는 것\n",
    "- 버전 관리 : 문서를 수정할 때마다 언제 수정했는지 편하고 구체적으로 기록 가능\n",
    "- 백업 : 깃의 원격 저장소인 깃허브를 이용해 현재 컴퓨터에 있는 자료를 복제\n",
    "- 협업 : 구성원들 간의 편한 파일 공유 및 기록 확인 가능"
   ]
  },
  {
   "cell_type": "markdown",
   "id": "5367f99d-3cb6-4ca6-ae8a-ea48f26fbe52",
   "metadata": {},
   "source": [
    "### 02. 깃 프로그램 종류\n",
    "- 깃허브 데스크톱(GitHub Desktop) : https://desktop.github.com/\n",
    "- 토터스깃(TortoiseGit) : https://tortoisegit.org/\n",
    "- 소스트리(SourceTree) : https://www.sourcetreeapp.com/"
   ]
  },
  {
   "cell_type": "markdown",
   "id": "d312db5c-5273-49ab-8a91-0909fc9e82e3",
   "metadata": {},
   "source": [
    "<hr>"
   ]
  },
  {
   "cell_type": "markdown",
   "id": "cd1563dc-2f68-45b8-9072-1068b49e8fbb",
   "metadata": {},
   "source": [
    "### Codes"
   ]
  },
  {
   "cell_type": "markdown",
   "id": "4aec423e-24f4-45f3-981f-2eca0868c67f",
   "metadata": {},
   "source": [
    "git : 깃 옵션 설명\n",
    "\n",
    "pwd : print working directory / 현재 위치의 경로\n",
    "\n",
    "ls : 파일 및 디렉터리 종류. (이름 뒤에 슬래시가 있으면 디렉터리)  \n",
    "ls -l : 파일과 디렉터리의 상세 정보까지 표시  \n",
    "la -a : 숨긴 파일과 디렉터리를 표시\n",
    "\n",
    "clear : 창 깨끗이 지우고 싶을 때.\n",
    "\n",
    "cd : 현재 위치 경로 출력  \n",
    "cd . : 출력 및 변동 없음. 현재 작업 중인 디렉터리  \n",
    "cd .. : 현재 위치 > 상위 디렉터리 이동  \n",
    "cd ~ : 홈 디렉터리로 이동  \n",
    "cd [하위폴더명] : 하위 폴더로 이동\n",
    "cd ~/[이동할 지역저장소명]: cd ~ 명령과 cd [이동할 지역저장소명]을 한 번에 처리한 것.\n",
    "\n",
    "mkdir [만들고 싶은 폴더] : make directory\n",
    "\n",
    "rm -r [지우고 싶은 폴더명] : 옵션 r은 하위 디렉터리와 파일까지 함께 삭제된다는 것.\n",
    "\n",
    "vim [파일명] : 존재하는 파일이라면 파일을 오픈, 아니면 파일을 생성.\n",
    "> 처음에 딱 뜨는 저장과 종료 모드(ex모드)에서 I(insert)나 A(add)를 누르면 입력모드로 바뀜. 다시 ex모드로 돌아가려면 Esc키 누르기.\n",
    "\n",
    "> ex 모드에서 세미콜론(;)을 누르면 텍스트를 입력할 수 있음. w는 저장, q는 종료. :wq는 한 번에 저장과 종료를 실행함.\n",
    "\n",
    "> q!는 문서를 저장하지 않고 편집기를 종료하는 명령. 확장자가 .swp인 임시 파일이 생김.\n",
    "  \n",
    "cat : concatenate(연쇄하다) / 터미널 창에서 간단히 텍스트 문서의 내용을 확인할 때 씀.  \n",
    "cat [파일1], [파일2], [파일3] > [새 파일] : 파일 n개를 차례로 연결해서 새로운 파일을 만듦.  \n",
    "cat [파일1] >> [파일2] : 파일 1의 내용을 파일 2 끝에 연결함.  "
   ]
  }
 ],
 "metadata": {
  "kernelspec": {
   "display_name": "Python 3 (ipykernel)",
   "language": "python",
   "name": "python3"
  },
  "language_info": {
   "codemirror_mode": {
    "name": "ipython",
    "version": 3
   },
   "file_extension": ".py",
   "mimetype": "text/x-python",
   "name": "python",
   "nbconvert_exporter": "python",
   "pygments_lexer": "ipython3",
   "version": "3.8.12"
  }
 },
 "nbformat": 4,
 "nbformat_minor": 5
}
