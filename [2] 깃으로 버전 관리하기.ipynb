{
 "cells": [
  {
   "cell_type": "markdown",
   "id": "c1ddd3db-4dde-4417-b5a6-204071b26e56",
   "metadata": {},
   "source": [
    "# Do it! 지옥에서 온 문서 관리자 : 깃 & 깃허브 입문"
   ]
  },
  {
   "cell_type": "markdown",
   "id": "bcd272a2-dad5-4cda-a527-9b475f0f5657",
   "metadata": {},
   "source": [
    "## 2. 깃으로 버전 관리하기"
   ]
  },
  {
   "cell_type": "markdown",
   "id": "9c6f4c8b-9afd-4ec6-af4c-1860a1b95c96",
   "metadata": {},
   "source": [
    "<hr>"
   ]
  },
  {
   "cell_type": "markdown",
   "id": "61b92464-5cc7-433d-9da6-d20fffd32cb0",
   "metadata": {},
   "source": [
    "### 버전 : 문서 수정 시 간단한 커밋명과 함께 스냅숏으로 찍어서 내용을 저장하는 것"
   ]
  },
  {
   "cell_type": "markdown",
   "id": "831a6980-9b57-4a30-b851-6c75b8eb0d2b",
   "metadata": {},
   "source": [
    "### 작업 트리 | 스테이지 | 저장소\n",
    "\n",
    "작업트리 > 스테이지 : add (.git/index 파일에 저장하므로 '인덱스에 등록한다'라고도 함.)\n",
    "\n",
    "스테이지 > 저장소 : commit \n",
    "\n",
    "- commit message는 1) 터미널 창에서 한/영 전환이 번거롭고, 2) 후에 외국인 개발자와의 원활한 공유를 위해 주로 영어로 작성한다."
   ]
  },
  {
   "cell_type": "markdown",
   "id": "9588657e-dd35-40c4-a7c0-466c7dacf1ab",
   "metadata": {},
   "source": [
    "### Untracked files : 한 번도 버전관리하지 않은 파일"
   ]
  },
  {
   "cell_type": "markdown",
   "id": "88e1966b-acc3-4017-8ad9-ab1bfee8acab",
   "metadata": {},
   "source": [
    "### warning: LF will be placed by CRLF in [add한 파일명]\n",
    "  윈도우에서는 줄바꿈시 CR, LF 문자가 삽입되는데 리눅스와 맥에서는 LF 문자가 삽입되므로,\n",
    "스테이지에 올릴 때는 자동으로 CRLF > LF로 바꿔서 올리겠다는 뜻.\n",
    "사용자가 따로 어떤 조치를 취해야 하는 건 아님."
   ]
  },
  {
   "cell_type": "markdown",
   "id": "9a6e300f-71be-49dd-9218-29611b051e28",
   "metadata": {},
   "source": [
    "<hr>"
   ]
  },
  {
   "cell_type": "markdown",
   "id": "226ee2c6-10f7-4e14-8877-c5cd8b42d119",
   "metadata": {},
   "source": [
    "### Codes"
   ]
  },
  {
   "cell_type": "markdown",
   "id": "68fce30f-be81-4fa8-9670-43ff8c25c7ae",
   "metadata": {},
   "source": [
    "git init : 이 디렉터리에 저장소를 만듦. 'Initialized empty Git repository ...'라는 메시지와 함께 해당 디렉터리에서 깃 사용 가능\n",
    "\n",
    "git status : 깃 상태 확인\n",
    "- on branch main : 현재 main 브랜치에 있음.\n",
    "- No commits yet : 아직 커밋한 파일이 없음\n",
    "- nothing to commit : 현재 커밋할 파일이 없음 (버전으로 만들 파일이 없음)\n",
    "- working tree clean : 작업 트리가 수정사항 없이 깨끗하다 (현재 트리에 있는 모든 파일의 상태는 수정되지 않은 unmodified 상태)\n",
    "- changes not staged for commit : 파일이 트리에서 수정만 되어있는 상태\n",
    "- changes to be committed : 커밋 직전 단계, 즉 staged 단계\n",
    "\n",
    "git log : 버전이 제대로 만들어졌는지 확인\n",
    "\n",
    "git commit -am : 한 번 이상 커밋한 적이 있는 파일에 한하여, 스테이지에 올리고(add) 커밋하는 과정을 한꺼번에 처리할 수 있음.\n",
    "(git commit -a -m도 가능 / a가 먼저 와야 하고, 띄어쓰기 잘 지켜야 함.)\n",
    "\n",
    "git diff : <작업트리 - 스테이지> / <스테이지 - 저장소>에 있는 최신 커밋을 비교해 수정한 파일을 커밋하기 전에 최종적으로 검토할 수 있음.\n",
    "\n",
    "git log --stat : 커밋에 관련된 파일까지 함께 살펴보기\n",
    "(로그 메시지가 너무 많을 경우 한 화면씩 나눠 보여주는데, enter를 누르면 다음 로그 화면을 볼 수 있고, q를 누르면 로그 화면을 빠져 나와 다시 깃 명령을 입력할 수 있음.)\n",
    "\n",
    "vim으로 .gitignore 파일을 만들어서 버전 관리하지 않을 파일 또는 디렉터리, 파일 확장자를 입력할 수 있음.\n",
    "[파일명].[확장자]\n",
    "[폴더명]/\n",
    ".[확장자]\n",
    "\n",
    ".gitignore 파일은 중간에 고치려고 하면 이미 쌓인 캐시 때문에 적용되지 않음.\n",
    "이 경우 캐시 파일을 삭제해주고 다시 커밋해야 함. (참고 : https://jojoldu.tistory.com/307)\n",
    "> git rm -r --cached .  \n",
    "git add .  \n",
    "git commit -m \"fixed untracked files\"\n",
    "\n",
    "git commit --amend : 가장 최근의 커밋을 수정함. vim에서 가장 위에 뜨는 커밋문구를 수정하고 저장 후 종료하면 됨."
   ]
  },
  {
   "cell_type": "markdown",
   "id": "fc05e9a2-e0ab-49bf-9ecb-4bd0be1cdb72",
   "metadata": {},
   "source": [
    "<hr>"
   ]
  },
  {
   "cell_type": "markdown",
   "id": "7afb8d66-2881-47d6-bd5f-c914ea449c1d",
   "metadata": {},
   "source": [
    "#### 작업 되돌리기\n",
    "##### 01. 수정된 내용 돌리기\n",
    "- git checkout -- [파일명] (old 방식)\n",
    "- git restore [파일명] (new 방식)  \n",
    "   \n",
    "이후 cat [파일명]을 통해 되돌려진 내용을 확인하고 git status를 치면 working tree clean을 확인할 수 있음.\n",
    "\n",
    "##### 02. 스테이지된 (add된) 내용 돌리기\n",
    "- git reset HEAD [파일명] (old 방식 : unstaged 메시지가 나타남)\n",
    "- git restore --staged [파일명] (new 방식)\n",
    "\n",
    "##### 03. 커밋까지 완료한 내용 돌리기\n",
    "- git reset HEAD^ : 가장 최근의 커밋이 취소되고 스테이지에서도 내려감.\n",
    "- git reset HEAD~[숫자] : 숫자만큼의 최근 커밋이 취소되고 스테이지에서도 내려감.\n",
    "\n",
    "##### 참고 (git reset)  \n",
    "- --soft HEAD^ : 최근 커밋을 하기 전 상태로 작업 트리를 되돌림.  \n",
    "- --mixed HEAD^ : 최근 커밋솨 스테이징을 하기 전 상태로 작업 트리를 되돌림. 옵션 없이 git reset 명령을 사용할 경우 이 옵션이 기본으로 작동함.  \n",
    "- --hard HEAD^ : 최근 커밋과 스테이징, 파일 수정을 하기 전 상태로 작업 트리를 되돌림. 이 옵션으로 되돌린 내용은 복구할 수 없음."
   ]
  },
  {
   "cell_type": "markdown",
   "id": "012d4365-fd1d-4a2c-8b8c-2f59ef5b8add",
   "metadata": {},
   "source": [
    "##### 04. 특정 커밋으로 내용 돌리기\n",
    "- 커밋 해시는 커밋 ID라고도 함.\n",
    "- 커밋 해시를 복사해서 git reset --hard [커밋해시]를 입력하면 HEAD is now at [커밋해시]로 됨.  \n",
    "즉, 복사한 커밋해시 이후의 커밋ㅡ은 사라지고, 선택한 커밋이 최신 커밋이 됨.\n",
    "\n",
    "##### 05. 커밋 삭제하기 않고 되돌리기\n",
    "- git revert [커밋 해시] : 내용은 보류하지만 커밋은 삭제할 수 있음.\n",
    "- 기본 편집기가 자동 실행되고, 문서의 맨 위에 revert 하면서 추가로 남겨둘 내용이 있다면 입력하고 저장함.\n",
    "- git log를 치면 버전을 지우는 대신 버전 변경 이력을 취소한 새 커밋이 만들어짐."
   ]
  }
 ],
 "metadata": {
  "kernelspec": {
   "display_name": "Python 3 (ipykernel)",
   "language": "python",
   "name": "python3"
  },
  "language_info": {
   "codemirror_mode": {
    "name": "ipython",
    "version": 3
   },
   "file_extension": ".py",
   "mimetype": "text/x-python",
   "name": "python",
   "nbconvert_exporter": "python",
   "pygments_lexer": "ipython3",
   "version": "3.8.12"
  }
 },
 "nbformat": 4,
 "nbformat_minor": 5
}
