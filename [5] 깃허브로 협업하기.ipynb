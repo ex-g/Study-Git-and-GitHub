{
 "cells": [
  {
   "cell_type": "markdown",
   "id": "eec8385b-7e88-46d8-981b-88fc70d9099f",
   "metadata": {},
   "source": [
    "# Do it! 지옥에서 온 문서 관리자 : 깃 & 깃허브 입문"
   ]
  },
  {
   "cell_type": "markdown",
   "id": "c8844906-940b-43cd-a398-57fc8b93eb26",
   "metadata": {},
   "source": [
    "## 5. 깃허브로 협업하기"
   ]
  },
  {
   "cell_type": "markdown",
   "id": "b4840c85-3a21-402f-a980-54d2e7ba3fba",
   "metadata": {},
   "source": [
    "<hr>"
   ]
  },
  {
   "cell_type": "markdown",
   "id": "aa8ce16c-0278-4da2-8454-c600e7b0c30e",
   "metadata": {},
   "source": [
    "### Codes\n",
    "\n",
    "git clone : 원격 저장소를 지역 저장소로 똑같이 가져오는 것  \n",
    "git clone [복제할 원격 저장소 주소] [만들고 싶은 지역 저장소명]\n",
    "- 지역 저장소가 존재하지 않으면 자동으로 생성됨.\n",
    "- 현재 위치에 복제하고 싶으면 .을 입력하면 됨.\n",
    "- git remote -v 명령을 사용하면 연결이 되어 있는지 확인할 수 있음.\n",
    "\n",
    "하나의 원격 저장소에 둘 이상의 컴퓨터를 연결해서 사용한다면 풀과 푸시를 습관화하는 게 좋음."
   ]
  },
  {
   "cell_type": "markdown",
   "id": "d3e7dcc1-d811-4fdb-a366-fe1b2a4f5815",
   "metadata": {},
   "source": [
    "<hr>"
   ]
  },
  {
   "cell_type": "markdown",
   "id": "ef6c7ece-d201-4450-bb7c-239eb81c18bc",
   "metadata": {},
   "source": [
    "#### 원격 브랜치 정보 가져오기\n",
    "\n",
    "fetch : 불러오다, 가져오다  \n",
    "git fetch : 원격 저장소의 정보를 가져오는 기능. 원격 브랜치에 어떤 변화가 있는지 그 정보만 가져옴.\n",
    "- origin/main 브랜치가 아닌 FETCH_HEAD라는 브랜치로 가져옴. 이 브랜치로 가져온 정보는 지역 저장소에 바로 반영되지 않음.\n",
    "\n",
    "git checkout FETCH_HEAD : 패치해서 가져온 최신 커밋을 살펴볼 수 있음.\n",
    "git diff HEAD origin/main : 지역 저장소의 최신 커밋과 패치한 커밋의 차이를 비교함.\n",
    "- 이후 git pull 혹은 git merge FETCH_HEAD를 사용해 소스코드 받기 혹은 병합 가능.\n",
    "- git pull = git fetch + git merge FETCH_HEAD\n",
    "\n",
    "패치한 뒤 병합할 때 원격 main 브랜치에 있는 커밋이라면 \n",
    "git merge origin/main으로 병합.  \n",
    "다른 브랜치에 있는 커밋이라면 git merge origin/[브랜치명]으로 병합.  \n",
    "(그냥 쉽게는 git merge FETCH_HEAD)\n",
    "\n",
    "원격 저장소에서 협업할 때는, 원격 저장소의 최신 커밋 정보를 가져온 다음 지역 저장소의 커밋을 올려야 함. (pull 다음에 commit 해야 함.)"
   ]
  },
  {
   "cell_type": "markdown",
   "id": "314ad8c5-51a1-47c1-b64b-c82c3ccee215",
   "metadata": {},
   "source": [
    "<hr>"
   ]
  },
  {
   "cell_type": "markdown",
   "id": "864c82a2-0b29-4d5b-ab91-ddc108e40d16",
   "metadata": {},
   "source": [
    "#### 협업에서 브랜치 사용하기\n",
    "\n",
    "git checkout -b [브랜치명] : 브랜치를 만들고 그 브랜치로 체크아웃. (이미 브랜치가 있다면 체크아웃만 실행됨.)\n",
    "\n",
    "푸시한 브랜치는 풀 리퀘스트(pull request)를 통해 병합해야 원격 저장소에 반영됨.\n",
    "1. [New pull request]\n",
    "2. 풀 리퀘스트 메시지 작성 후 [Create pull request] > 협업 중인 저장소에 풀 리퀘스트가 전송됨.\n",
    "3. [Pull request] : 등록된 풀 리퀘스트 목록이 나타남. 목록 중 하나를 누르고,\n",
    "4. 메시지를 살펴본 다음 내용에 문제가 없으면 [Merge pull request] > 병합 (필요 시 이 공간을 통해 풀 리퀘스트를 남긴 사람과 메시지를 주고받을 수 있음)\n",
    "5. 커밋 메시지를 직접 입력하거나 기본 메시지를 사용할 수 있음 [Confirm merge]를 누르면 브랜치 병합 끝.\n",
    "6. 브랜치가 병합되면 해당 브랜치에 있던 파일이 main 화면에 나타나게 됨.\n",
    "7. 브랜치가 병합된 상태라면 branch 목록의 Active branches 끝에 'merged'라고 표시되어 있음. 공동 작업자 중 누가 브랜치를 병합했는지도 알 수 있음.\n",
    "8. 깃허브 협업 시 보통 작업자마다 브랜치를 만들어서 진행하고, 작업 중간 중간 풀 리퀘스트를 보내서 main 브랜치에 병합함.  \n",
    "그래서 다른 작업자의 변경 내용을 바로 반영하기 위해서 항상 pull부터 한 뒤 자신의 작업을 진행하는 것이 좋음."
   ]
  }
 ],
 "metadata": {
  "kernelspec": {
   "display_name": "Python 3 (ipykernel)",
   "language": "python",
   "name": "python3"
  },
  "language_info": {
   "codemirror_mode": {
    "name": "ipython",
    "version": 3
   },
   "file_extension": ".py",
   "mimetype": "text/x-python",
   "name": "python",
   "nbconvert_exporter": "python",
   "pygments_lexer": "ipython3",
   "version": "3.8.12"
  }
 },
 "nbformat": 4,
 "nbformat_minor": 5
}
